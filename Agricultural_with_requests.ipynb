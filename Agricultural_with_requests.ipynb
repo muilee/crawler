{
 "cells": [
  {
   "cell_type": "code",
   "execution_count": 18,
   "metadata": {},
   "outputs": [],
   "source": [
    "import requests\n",
    "from bs4 import BeautifulSoup\n",
    "\n",
    "# you can change place, range of time and product\n",
    "data_form = \"\"\"ctl00$ScriptManager_Master:ctl00$ScriptManager_Master|ctl00$contentPlaceHolder$btnQuery\n",
    "__EVENTTARGET:\n",
    "__EVENTARGUMENT:\n",
    "__VIEWSTATE:/wEPDwUIOTY0Mzc1NDIPZBYCZg9kFgICAw9kFgICCw9kFg4CAQ8PFgIeBFRleHQFFeeUouWTgeaXpeS6pOaYk+ihjOaDhWRkAgcPDxYCHwAFCTEwNi8xMS8wNmRkAgkPD2QWAh4Fc3R5bGUFDWRpc3BsYXk6bm9uZTtkAgsPDxYCHwAFCTEwNi8xMS8wNhYCHwEFDWRpc3BsYXk6bm9uZTtkAg0PDxYCHwBlZGQCEw8PFgIfAGVkZAIhD2QWAmYPZBYCAgEPZBYEZg8PFgIfAAUV55Si5ZOB5pel5Lqk5piT6KGM5oOFZGQCBQ8UKwACZGRkGAEFIWN0bDAwJGNvbnRlbnRQbGFjZUhvbGRlciRsaXN0Vmlldw9nZJB6TVtqyP5qaVOhh5xKBHwm0An4WMIAGCB/gSBiJWw2\n",
    "__VIEWSTATEGENERATOR:924237A5\n",
    "__EVENTVALIDATION:/wEdABC4zGqUcskm7k+1KjEBYdnAQlnRBSjq2R0LFBhqvIaYOdWbMM2/DWJrZzd7rAbCDCMbHYsHDbD1wmtGXihvmsnJ8BlZTYOptctvPAnPr9y5LJoyUCbB5OTDc5yZRRQ2PEmkvfJ0YrSiHU+/oXyBv2VhrkJjLitQjF6ePtmGbXiLrIzHLqmP3vmfhBo4iiBYbOAMxUXSePoiAbW03Aek83lEONL/4qBgBPfx/RZlnlGK8F2urMXFZJUEVGioaQEN8wAcw2+N1zwrySGFt1o6Y654NdK0LUPG/u+ZYgXys7Q5MzRmtqZjr7cHdstuZRNzNiosHqM4wINIxgrfpUQJzv9g0Ae9xeks97eTdwrF7KIqvjvArZ7+z42YPUYIDsCdaL8=\n",
    "ctl00$contentPlaceHolder$ucDateScope$rblDateScope:P\n",
    "ctl00$contentPlaceHolder$ucSolarLunar$radlSolarLunar:S\n",
    "ctl00$contentPlaceHolder$txtSTransDate:106/11/05\n",
    "ctl00$contentPlaceHolder$txtETransDate:106/11/06\n",
    "ctl00$contentPlaceHolder$txtMarket:全部市場\n",
    "ctl00$contentPlaceHolder$hfldMarketNo:ALL\n",
    "ctl00$contentPlaceHolder$txtProduct:全部產品\n",
    "ctl00$contentPlaceHolder$hfldProductNo:ALL\n",
    "ctl00$contentPlaceHolder$hfldProductType:A\n",
    "__ASYNCPOST:true\n",
    "ctl00$contentPlaceHolder$btnQuery:查詢\"\"\"\n",
    "\n",
    "headers_string = \"\"\"Accept:*/*\n",
    "Accept-Encoding:gzip, deflate\n",
    "Accept-Language:zh-TW,zh;q=0.8,en-US;q=0.6,en;q=0.4\n",
    "Cache-Control:no-cache\n",
    "Connection:keep-alive\n",
    "Content-Length:1633\n",
    "Content-Type:application/x-www-form-urlencoded; charset=UTF-8\n",
    "Cookie:ASP.NET_SessionId=rrezkmxgbaf2f5ushmba1odl\n",
    "Host:amis.afa.gov.tw\n",
    "Origin:http://amis.afa.gov.tw\n",
    "Referer:http://amis.afa.gov.tw/veg/VegProdDayTransInfo.aspx\n",
    "User-Agent:Mozilla/5.0 (Windows NT 10.0; Win64; x64) AppleWebKit/537.36 (KHTML, like Gecko) Chrome/61.0.3163.100 Safari/537.36\n",
    "X-MicrosoftAjax:Delta=true\n",
    "X-Requested-With:XMLHttpRequest\"\"\"\n",
    "\n",
    "data = {line.split(\":\")[0]: line.split(\":\")[1] for line in data_form.split()}\n",
    "headers = {line.split(\":\")[0]: line.split(\":\")[1] for line in headers_string.split(\"\\n\")}\n",
    "\n",
    "resp = requests.post(\"http://amis.afa.gov.tw/veg/VegProdDayTransInfo.aspx\", data = data, headers=headers)"
   ]
  },
  {
   "cell_type": "code",
   "execution_count": 24,
   "metadata": {},
   "outputs": [
    {
     "data": {
      "text/plain": [
       "2       104 台北二\n",
       "3       104 台北二\n",
       "4       104 台北二\n",
       "5       104 台北二\n",
       "6       104 台北二\n",
       "7       104 台北二\n",
       "8       104 台北二\n",
       "9       104 台北二\n",
       "10      104 台北二\n",
       "11      104 台北二\n",
       "12      104 台北二\n",
       "13      104 台北二\n",
       "14      104 台北二\n",
       "15      104 台北二\n",
       "16      104 台北二\n",
       "17      104 台北二\n",
       "18      104 台北二\n",
       "19      104 台北二\n",
       "20      104 台北二\n",
       "21      104 台北二\n",
       "22      104 台北二\n",
       "23      104 台北二\n",
       "24      104 台北二\n",
       "25      104 台北二\n",
       "26      104 台北二\n",
       "27      104 台北二\n",
       "28      104 台北二\n",
       "29      104 台北二\n",
       "30      104 台北二\n",
       "31      104 台北二\n",
       "         ...   \n",
       "1412    950 花蓮市\n",
       "1413    950 花蓮市\n",
       "1414    950 花蓮市\n",
       "1415    950 花蓮市\n",
       "1416    950 花蓮市\n",
       "1417    950 花蓮市\n",
       "1418    950 花蓮市\n",
       "1419    950 花蓮市\n",
       "1420    950 花蓮市\n",
       "1421    950 花蓮市\n",
       "1422    950 花蓮市\n",
       "1423    950 花蓮市\n",
       "1424    950 花蓮市\n",
       "1425    950 花蓮市\n",
       "1426    950 花蓮市\n",
       "1427    950 花蓮市\n",
       "1428    950 花蓮市\n",
       "1429    950 花蓮市\n",
       "1430    950 花蓮市\n",
       "1431    950 花蓮市\n",
       "1432    950 花蓮市\n",
       "1433    950 花蓮市\n",
       "1434    950 花蓮市\n",
       "1435    950 花蓮市\n",
       "1436    950 花蓮市\n",
       "1437    950 花蓮市\n",
       "1438    950 花蓮市\n",
       "1439    950 花蓮市\n",
       "1440    950 花蓮市\n",
       "1441    950 花蓮市\n",
       "Name: 市場, Length: 1440, dtype: object"
      ]
     },
     "execution_count": 24,
     "metadata": {},
     "output_type": "execute_result"
    }
   ],
   "source": [
    "df = pd.read_html(resp.text)\n",
    "table = df[2]\n",
    "table.columns = table.iloc[0]\n",
    "table.drop([\"跟前一交易日比較%\", \"交易量(公斤)\", \"跟前一交易日比較%\"], inplace=True, axis=1)\n",
    "table = table[2:]\n",
    "table.reset_index(drop=True)\n",
    "table[\"市場\"]"
   ]
  },
  {
   "cell_type": "code",
   "execution_count": null,
   "metadata": {
    "collapsed": true
   },
   "outputs": [],
   "source": []
  },
  {
   "cell_type": "code",
   "execution_count": null,
   "metadata": {
    "collapsed": true
   },
   "outputs": [],
   "source": []
  }
 ],
 "metadata": {
  "kernelspec": {
   "display_name": "Python 3",
   "language": "python",
   "name": "python3"
  },
  "language_info": {
   "codemirror_mode": {
    "name": "ipython",
    "version": 3
   },
   "file_extension": ".py",
   "mimetype": "text/x-python",
   "name": "python",
   "nbconvert_exporter": "python",
   "pygments_lexer": "ipython3",
   "version": "3.6.3"
  }
 },
 "nbformat": 4,
 "nbformat_minor": 2
}
