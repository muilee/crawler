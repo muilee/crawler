{
 "cells": [
  {
   "cell_type": "code",
   "execution_count": 8,
   "metadata": {},
   "outputs": [
    {
     "data": {
      "text/plain": [
       "['https://www.amazon.com/Lego-Movie-Chris-Pratt/dp/B00IDI7WP2/ref=sr_1_2/134-9055712-9984827?ie=UTF8&qid=1509694262&sr=8-2&keywords=movie',\n",
       " 'https://www.amazon.com/Dear-John-Military-Movies-Advisors/dp/B003LPRRR0/ref=sr_1_3/134-9055712-9984827?ie=UTF8&qid=1509694262&sr=8-3&keywords=movie',\n",
       " 'https://www.amazon.com/LEGO-Movie-plus-bonus-features/dp/B00KG41CZC/ref=sr_1_4/134-9055712-9984827?ie=UTF8&qid=1509694262&sr=8-4&keywords=movie',\n",
       " 'https://www.amazon.com/Beistle-50715-Movie-Clapboard-Black/dp/B000R4O9GK/ref=sr_1_5/134-9055712-9984827?ie=UTF8&qid=1509694262&sr=8-5&keywords=movie',\n",
       " 'https://www.amazon.com/X-Men-Origins-Wolverine-World-Premiere/dp/B002OLLH46/ref=sr_1_6/134-9055712-9984827?ie=UTF8&qid=1509694262&sr=8-6&keywords=movie',\n",
       " 'https://www.amazon.com/Fandango-Gift-Card-25/dp/B00S5J8456/ref=sr_1_7/134-9055712-9984827?ie=UTF8&qid=1509694262&sr=8-7&keywords=movie',\n",
       " 'https://www.amazon.com/Escort-Lyndsy-Fonseca/dp/B0126N15C0/ref=sr_1_8/134-9055712-9984827?ie=UTF8&qid=1509694262&sr=8-8&keywords=movie',\n",
       " 'https://www.amazon.com/1001-Movies-You-Must-Before/dp/0764167901/ref=sr_1_9/134-9055712-9984827?ie=UTF8&qid=1509694262&sr=8-9&keywords=movie',\n",
       " 'https://www.amazon.com/Daddys-Home-Will-Ferrell/dp/B019YHGHX8/ref=sr_1_10/134-9055712-9984827?ie=UTF8&qid=1509694262&sr=8-10&keywords=movie',\n",
       " 'https://www.amazon.com/Great-Northern-Popcorn-Matinee-Movie/dp/B002Z9GDYG/ref=sr_1_11/134-9055712-9984827?ie=UTF8&qid=1509694262&sr=8-11&keywords=movie',\n",
       " 'https://www.amazon.com/Me-Before-You-Emilia-Clarke/dp/B01GIIVF6K/ref=sr_1_12/134-9055712-9984827?ie=UTF8&qid=1509694262&sr=8-12&keywords=movie',\n",
       " 'https://www.amazon.com/Womens-Watch-Christmas-Movies-Cranberry/dp/B076HKRZTS/ref=sr_1_13/134-9055712-9984827?ie=UTF8&qid=1509694262&sr=8-13&keywords=movie',\n",
       " 'https://www.amazon.com/Choice-Benjamin-Walker/dp/B01B8LW14M/ref=sr_1_14/134-9055712-9984827?ie=UTF8&qid=1509694262&sr=8-14&keywords=movie',\n",
       " 'https://www.amazon.com/Godfather-3-Movie-Collection-James-Caan/dp/B011MUA6NW/ref=sr_1_15/134-9055712-9984827?ie=UTF8&qid=1509694262&sr=8-15&keywords=movie',\n",
       " 'https://www.amazon.com/LEGO-Ninjago-Movie-Strider-Building/dp/B071VNCXQV/ref=sr_1_16/134-9055712-9984827?ie=UTF8&qid=1509694262&sr=8-16&keywords=movie',\n",
       " 'https://www.amazon.com/13-Hours-Secret-Soldiers-Benghazi/dp/B01AIW6KZS/ref=sr_1_17/134-9055712-9984827?ie=UTF8&qid=1509694262&sr=8-17&keywords=movie']"
      ]
     },
     "execution_count": 8,
     "metadata": {},
     "output_type": "execute_result"
    }
   ],
   "source": [
    "import requests\n",
    "from bs4 import BeautifulSoup\n",
    "import re\n",
    "\n",
    "# find each href of movie\n",
    "\n",
    "url = \"https://www.amazon.com/s?page={}&keywords=movie\"\n",
    "headers = {\"User-Agent\":\"Mozilla/5.0 (Windows NT 10.0; Win64; x64) AppleWebKit/537.36 (KHTML, like Gecko) Chrome/61.0.3163.100 Safari/537.36\"}\n",
    "\n",
    "# you can change page in parentheses of format if you want\n",
    "resp = requests.get(url.format(1), headers=headers)\n",
    "soup = BeautifulSoup(resp.text, \"html5lib\")\n",
    "urls = [a.get(\"href\") for a in soup.select(\"a.s-access-detail-page\")]\n",
    "filter_urls = [url for url in urls if url.startswith(\"https\")]\n",
    "filter_urls"
   ]
  },
  {
   "cell_type": "code",
   "execution_count": 53,
   "metadata": {
    "collapsed": true
   },
   "outputs": [],
   "source": [
    "# parsing star in class\n",
    "def parse_star(star_list):\n",
    "    if len(star_list) == 1:\n",
    "        return int(star_list[0])\n",
    "    else:\n",
    "        numbers = [int(star) for star in star_list]\n",
    "        return numbers[0] + 0.1 * numbers[1]"
   ]
  },
  {
   "cell_type": "code",
   "execution_count": 54,
   "metadata": {},
   "outputs": [
    {
     "name": "stdout",
     "output_type": "stream",
     "text": [
      "done0\n",
      "done1\n",
      "done2\n",
      "done3\n",
      "done4\n",
      "done5\n",
      "done6\n",
      "done7\n",
      "done8\n"
     ]
    }
   ],
   "source": [
    "content = []\n",
    "counter = 0\n",
    "for filter_url in filter_urls:\n",
    "    resp2 = requests.get(filter_url)\n",
    "    soup2 = BeautifulSoup(resp2.text, \"html5lib\")\n",
    "    if soup2.select(\"#aiv-content-title\"):\n",
    "        movie = {}\n",
    "        head = soup2.select(\"#aiv-content-title\")[0]\n",
    "\n",
    "        movie[\"title\"] = head.text.strip().split(\"\\n\")[0]\n",
    "        if head.select(\".release-year\"):\n",
    "            movie[\"release-year\"] = head.select(\".release-year\")[0].text\n",
    "        else:\n",
    "            movie[\"release-year\"] = \"unknown\"\n",
    "        movie[\"star\"] = parse_star(soup2.select(\"#reviewStars\")[0].get(\"class\")[2].split(\"-\")[2:])\n",
    "        movie[\"review\"] = int(soup2.select(\"#reviewLink > a\")[0].text.replace(\",\", \"\"))\n",
    "        movie[\"imdb-rating\"] = float(soup2.select(\"span.imdb-rating > strong\")[0].text)\n",
    "        prices = soup2.select(\"span.dv-action-purchase-button > div.dv-button-text\")\n",
    "        for price in prices:\n",
    "            price_list = price.text.split()\n",
    "            movie[price_list[2] + \"_price_for_\" + price_list[0]] = float(price_list[-1].replace(\"$\", \"\"))\n",
    "        content.append(movie)\n",
    "        print(\"done{}\".format(counter))\n",
    "        counter += 1"
   ]
  },
  {
   "cell_type": "code",
   "execution_count": 55,
   "metadata": {},
   "outputs": [
    {
     "data": {
      "text/plain": [
       "[{'HD_price_for_Buy': 12.99,\n",
       "  'HD_price_for_Rent': 3.99,\n",
       "  'SD_price_for_Buy': 9.99,\n",
       "  'SD_price_for_Rent': 2.99,\n",
       "  'imdb-rating': 7.8,\n",
       "  'release-year': '2014',\n",
       "  'review': 5747,\n",
       "  'star': 4.5,\n",
       "  'title': 'The Lego Movie'},\n",
       " {'SD_price_for_Buy': 0.0,\n",
       "  'imdb-rating': 6.3,\n",
       "  'release-year': 'unknown',\n",
       "  'review': 180,\n",
       "  'star': 3.5,\n",
       "  'title': \"Dear John: Military in Movies: Dear John's Military Advisors\"},\n",
       " {'HD_price_for_Buy': 18.99,\n",
       "  'SD_price_for_Buy': 11.99,\n",
       "  'imdb-rating': 7.8,\n",
       "  'release-year': '2014',\n",
       "  'review': 5747,\n",
       "  'star': 4.5,\n",
       "  'title': 'The LEGO Movie (plus bonus features)'},\n",
       " {'SD_price_for_Buy': 0.0,\n",
       "  'imdb-rating': 6.7,\n",
       "  'release-year': 'unknown',\n",
       "  'review': 445,\n",
       "  'star': 3,\n",
       "  'title': 'X-Men Origins: Wolverine: World Premiere'},\n",
       " {'HD_price_for_Buy': 10.99,\n",
       "  'HD_price_for_Rent': 3.99,\n",
       "  'SD_price_for_Buy': 8.99,\n",
       "  'SD_price_for_Rent': 2.99,\n",
       "  'imdb-rating': 6.0,\n",
       "  'release-year': '2015',\n",
       "  'review': 1168,\n",
       "  'star': 3.5,\n",
       "  'title': 'The Escort'},\n",
       " {'HD_price_for_Buy': 4.99,\n",
       "  'SD_price_for_Buy': 4.99,\n",
       "  'imdb-rating': 6.1,\n",
       "  'release-year': '2015',\n",
       "  'review': 11849,\n",
       "  'star': 4,\n",
       "  'title': \"Daddy's Home\"},\n",
       " {'HD_price_for_Buy': 12.99,\n",
       "  'HD_price_for_Rent': 3.99,\n",
       "  'SD_price_for_Buy': 9.99,\n",
       "  'SD_price_for_Rent': 2.99,\n",
       "  'imdb-rating': 7.4,\n",
       "  'release-year': '2016',\n",
       "  'review': 4673,\n",
       "  'star': 4.5,\n",
       "  'title': 'Me Before You'},\n",
       " {'HD_price_for_Buy': 12.99,\n",
       "  'SD_price_for_Buy': 9.99,\n",
       "  'imdb-rating': 6.6,\n",
       "  'release-year': '2016',\n",
       "  'review': 3424,\n",
       "  'star': 4.5,\n",
       "  'title': 'The Choice'},\n",
       " {'HD_price_for_Buy': 13.99,\n",
       "  'SD_price_for_Buy': 12.99,\n",
       "  'imdb-rating': 7.3,\n",
       "  'release-year': '2016',\n",
       "  'review': 18761,\n",
       "  'star': 5,\n",
       "  'title': '13 Hours: The Secret Soldiers of Benghazi'}]"
      ]
     },
     "execution_count": 55,
     "metadata": {},
     "output_type": "execute_result"
    }
   ],
   "source": [
    "print(content)"
   ]
  },
  {
   "cell_type": "code",
   "execution_count": null,
   "metadata": {
    "collapsed": true
   },
   "outputs": [],
   "source": []
  }
 ],
 "metadata": {
  "kernelspec": {
   "display_name": "Python 3",
   "language": "python",
   "name": "python3"
  },
  "language_info": {
   "codemirror_mode": {
    "name": "ipython",
    "version": 3
   },
   "file_extension": ".py",
   "mimetype": "text/x-python",
   "name": "python",
   "nbconvert_exporter": "python",
   "pygments_lexer": "ipython3",
   "version": "3.6.3"
  }
 },
 "nbformat": 4,
 "nbformat_minor": 2
}
