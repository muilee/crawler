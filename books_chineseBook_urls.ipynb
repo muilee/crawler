{
 "cells": [
  {
   "cell_type": "code",
   "execution_count": 2,
   "metadata": {
    "collapsed": true
   },
   "outputs": [],
   "source": [
    "import requests\n",
    "from bs4 import BeautifulSoup\n",
    "import re\n",
    "import json\n",
    "import concurrent.futures"
   ]
  },
  {
   "cell_type": "code",
   "execution_count": null,
   "metadata": {
    "collapsed": true
   },
   "outputs": [],
   "source": [
    "def load_to_csv(title, subtitle, urls):\n",
    "    with open(\"./books/{}_{}.csv\".format(title, subtitle), \"w\") as f:\n",
    "        jd = json.dumps(urls)\n",
    "        f.write(jd)"
   ]
  },
  {
   "cell_type": "code",
   "execution_count": null,
   "metadata": {
    "collapsed": true
   },
   "outputs": [],
   "source": [
    "# http://www.books.com.tw/web/books_bmidm_0101/ will follow by ?page=1\n",
    "\n",
    "def get_url(title, subtitle, URL):\n",
    "    urls = []\n",
    "    URL = URL + \"?page={}\"\n",
    "    resp = requests.get(URL.format(1))\n",
    "    soup = BeautifulSoup(resp.text, \"html5lib\")\n",
    "    urls_temp = [a.get(\"href\").split(r\"?\")[0] for a in soup.select(\".wrap > .item > a\")]\n",
    "    urls.extend(urls_temp)\n",
    "    page = soup.select(\".cnt_page > .page > span\")\n",
    "    if page:\n",
    "        page = int(page[0].text)\n",
    "        for i in range(2, page+1):\n",
    "            resp = requests.get(URL.format(i))\n",
    "            soup = BeautifulSoup(resp.text, \"html5lib\")\n",
    "            urls_temp = [a.get(\"href\").split(r\"?\")[0] for a in soup.select(\".wrap > .item > a\")]\n",
    "            urls.extend(urls_temp)\n",
    "    load_to_csv(title, subtitle, urls)\n",
    "    "
   ]
  },
  {
   "cell_type": "code",
   "execution_count": null,
   "metadata": {
    "collapsed": true
   },
   "outputs": [],
   "source": [
    "# http://www.books.com.tw/web/books_topm_01/\n",
    "\n",
    "def find_sub_url_link(title, URL):\n",
    "    resp = requests.get(URL)\n",
    "    soup = BeautifulSoup(resp.text, \"html5lib\")\n",
    "    categories = {a.text: a.get(\"href\").split(r\"?\")[0] for a in soup.select(\".sub > li > span > a\")}\n",
    "    for subtitle, url in categories.items():\n",
    "        print(\"    start {}\".format(subtitle))\n",
    "        get_url(title, subtitle, url)\n",
    "        print(\"    finish {}\".format(subtitle))"
   ]
  },
  {
   "cell_type": "code",
   "execution_count": null,
   "metadata": {
    "collapsed": true
   },
   "outputs": [],
   "source": [
    "# http://www.books.com.tw/web/books/\n",
    "\n",
    "# def find_url_link(URL):\n",
    "#     resp = requests.get(URL)\n",
    "#     soup = BeautifulSoup(resp.text, \"html5lib\")\n",
    "#     categories = {a.text: a.get(\"href\").split(r\"?\")[0] for a in soup.select(\".mod_b.type02_l001-1.clearfix > ul > li > span > a\")}\n",
    "#     for title, url in categories.items():\n",
    "#         print(\"start {}\".format(title))\n",
    "#         find_sub_url_link(title, url)\n",
    "#         print(\"finish {}\".format(title))"
   ]
  },
  {
   "cell_type": "code",
   "execution_count": null,
   "metadata": {
    "collapsed": true
   },
   "outputs": [],
   "source": [
    "def main():\n",
    "    resp = requests.get(\"http://www.books.com.tw/web/books/\")\n",
    "    soup = BeautifulSoup(resp.text, \"html5lib\")\n",
    "    categories = {a.text: a.get(\"href\").split(r\"?\")[0] for a in soup.select(\".mod_b.type02_l001-1.clearfix > ul > li > span > a\")}\n",
    "    title_list = [title for title in categories.keys()]\n",
    "    url_list = [url for url in categories.values()]\n",
    "    with concurrent.futures.ThreadPoolExecutor(max_workers=30) as executor:\n",
    "        executor.map(find_sub_url_link, title_list, url_list)"
   ]
  },
  {
   "cell_type": "code",
   "execution_count": null,
   "metadata": {
    "collapsed": true
   },
   "outputs": [],
   "source": [
    "if __name__==\"__main__\":\n",
    "    main()"
   ]
  },
  {
   "cell_type": "code",
   "execution_count": null,
   "metadata": {
    "collapsed": true
   },
   "outputs": [],
   "source": []
  },
  {
   "cell_type": "code",
   "execution_count": null,
   "metadata": {
    "collapsed": true
   },
   "outputs": [],
   "source": []
  },
  {
   "cell_type": "code",
   "execution_count": 33,
   "metadata": {},
   "outputs": [
    {
     "name": "stdout",
     "output_type": "stream",
     "text": [
      "文學小說 http://www.books.com.tw/web/books_topm_01/\n",
      "商業理財 http://www.books.com.tw/web/books_topm_02/\n",
      "藝術設計 http://www.books.com.tw/web/books_topm_03/\n",
      "人文史地 http://www.books.com.tw/web/books_topm_04/\n",
      "社會科學 http://www.books.com.tw/web/books_topm_05/\n",
      "自然科普 http://www.books.com.tw/web/books_topm_06/\n",
      "心理勵志 http://www.books.com.tw/web/books_topm_07/\n",
      "醫療保健 http://www.books.com.tw/web/books_topm_08/\n",
      "飲食 http://www.books.com.tw/web/books_topm_09/\n",
      "生活風格 http://www.books.com.tw/web/books_topm_10/\n",
      "旅遊 http://www.books.com.tw/web/books_topm_11/\n",
      "宗教命理 http://www.books.com.tw/web/books_topm_12/\n",
      "親子教養 http://www.books.com.tw/web/books_topm_13/\n",
      "童書/青少年文學 http://www.books.com.tw/web/books_topm_14/\n",
      "輕小說 http://www.books.com.tw/web/books_topm_15/\n",
      "漫畫 http://www.books.com.tw/web/books_topm_16/\n",
      "語言學習 http://www.books.com.tw/web/books_topm_17/\n",
      "考試用書 http://www.books.com.tw/web/books_topm_18/\n",
      "電腦資訊 http://www.books.com.tw/web/books_topm_19/\n",
      "專業/教科書/政府出版品 http://www.books.com.tw/web/books_topm_20/\n"
     ]
    }
   ],
   "source": [
    "# find_url_link test\n",
    "\n",
    "URL = \"http://www.books.com.tw/web/books/\"\n",
    "resp = requests.get(URL)\n",
    "soup = BeautifulSoup(resp.text, \"html5lib\")\n",
    "categories = {a.text: a.get(\"href\").split(r\"?\")[0] for a in soup.select(\".mod_b.type02_l001-1.clearfix > ul > li > span > a\")}\n",
    "for key, value in categories.items():\n",
    "    print(key, value)"
   ]
  },
  {
   "cell_type": "code",
   "execution_count": 31,
   "metadata": {
    "scrolled": true
   },
   "outputs": [
    {
     "name": "stdout",
     "output_type": "stream",
     "text": [
      "翻譯文學 http://www.books.com.tw/web/books_bmidm_0101/\n",
      "華文創作 http://www.books.com.tw/web/books_bmidm_0102/\n",
      "詩 http://www.books.com.tw/web/books_bmidm_0103/\n",
      "文學研究 http://www.books.com.tw/web/books_bmidm_0104/\n",
      "中國古典文學 http://www.books.com.tw/web/books_bmidm_0105/\n",
      "國學常識 http://www.books.com.tw/web/books_bmidm_0106/\n",
      "世界經典文學 http://www.books.com.tw/web/books_bmidm_0107/\n",
      "懸疑/推理小說 http://www.books.com.tw/web/books_bmidm_0108/\n",
      "科幻/奇幻小說 http://www.books.com.tw/web/books_bmidm_0109/\n",
      "恐怖/驚悚小說 http://www.books.com.tw/web/books_bmidm_0110/\n",
      "溫馨/療癒小說 http://www.books.com.tw/web/books_bmidm_0111/\n",
      "愛情小說 http://www.books.com.tw/web/books_bmidm_0112/\n",
      "同性愛小說 http://www.books.com.tw/web/books_bmidm_0113/\n",
      "羅曼史/言情小說 http://www.books.com.tw/web/books_bmidm_0114/\n",
      "歷史/武俠小說 http://www.books.com.tw/web/books_bmidm_0115/\n",
      "其他文學小說 http://www.books.com.tw/web/books_bmidm_0116/\n"
     ]
    }
   ],
   "source": [
    "# find_sub_url_link test\n",
    "\n",
    "URL = \"http://www.books.com.tw/web/books_topm_01/\"\n",
    "resp = requests.get(URL)\n",
    "soup = BeautifulSoup(resp.text, \"html5lib\")\n",
    "categories = {a.text: a.get(\"href\").split(r\"?\")[0] for a in soup.select(\".sub > li > span > a\")}\n",
    "for key, value in categories.items():\n",
    "    get_url(key, value)"
   ]
  },
  {
   "cell_type": "code",
   "execution_count": 11,
   "metadata": {
    "collapsed": true,
    "scrolled": true
   },
   "outputs": [],
   "source": [
    "# get_url test\n",
    "\n",
    "urls = []\n",
    "URL = \"http://www.books.com.tw/web/books_bmidm_0113/?page={}\"\n",
    "resp = requests.get(URL.format(1))\n",
    "soup = BeautifulSoup(resp.text, \"html5lib\")\n",
    "urls_temp = [a.get(\"href\") for a in soup.select(\".wrap > .item > a\")]\n",
    "urls.extend(urls_temp)\n",
    "page = soup.select(\".cnt_page > .page > span\")\n",
    "if page:\n",
    "    page = int(page[0].text)\n",
    "    for i in range(2, page+1):\n",
    "        resp = requests.get(URL.format(i))\n",
    "        soup = BeautifulSoup(resp.text, \"html5lib\")\n",
    "        urls_temp = [a.get(\"href\") for a in soup.select(\".wrap > .item > a\")]\n",
    "        urls.extend(urls_temp)\n",
    "    \n",
    "\n"
   ]
  },
  {
   "cell_type": "code",
   "execution_count": 13,
   "metadata": {},
   "outputs": [
    {
     "data": {
      "text/plain": [
       "202"
      ]
     },
     "execution_count": 13,
     "metadata": {},
     "output_type": "execute_result"
    }
   ],
   "source": [
    "len(urls)"
   ]
  },
  {
   "cell_type": "code",
   "execution_count": null,
   "metadata": {
    "collapsed": true
   },
   "outputs": [],
   "source": []
  },
  {
   "cell_type": "code",
   "execution_count": 10,
   "metadata": {},
   "outputs": [
    {
     "data": {
      "text/plain": [
       "[]"
      ]
     },
     "execution_count": 10,
     "metadata": {},
     "output_type": "execute_result"
    }
   ],
   "source": [
    "resp = requests.get(\"http://www.books.com.tw/web/sys_botm/health/0803?loc=P_011_2_007\")\n",
    "soup = BeautifulSoup(resp.text, \"html5lib\")\n",
    "page = soup.select(\".cnt_page > .page > span\")\n",
    "page"
   ]
  },
  {
   "cell_type": "code",
   "execution_count": null,
   "metadata": {
    "collapsed": true
   },
   "outputs": [],
   "source": []
  }
 ],
 "metadata": {
  "kernelspec": {
   "display_name": "Python 3",
   "language": "python",
   "name": "python3"
  },
  "language_info": {
   "codemirror_mode": {
    "name": "ipython",
    "version": 3
   },
   "file_extension": ".py",
   "mimetype": "text/x-python",
   "name": "python",
   "nbconvert_exporter": "python",
   "pygments_lexer": "ipython3",
   "version": "3.6.3"
  }
 },
 "nbformat": 4,
 "nbformat_minor": 2
}
