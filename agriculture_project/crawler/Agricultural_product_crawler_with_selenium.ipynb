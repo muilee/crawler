{
 "cells": [
  {
   "cell_type": "code",
   "execution_count": 3,
   "metadata": {
    "collapsed": true
   },
   "outputs": [],
   "source": [
    "import requests\n",
    "from bs4 import BeautifulSoup as bs\n",
    "from selenium import webdriver\n",
    "import time\n",
    "import pandas as pd\n",
    "\n",
    "path = \"D:\\webdriver\\chromedriver\"\n",
    "driver = webdriver.Chrome(path)\n",
    "driver.get(\"http://amis.afa.gov.tw/veg/VegProdDayTransInfo.aspx\")\n",
    "\n",
    "# click range\n",
    "driver.find_element_by_id(\"ctl00_contentPlaceHolder_ucDateScope_rblDateScope_1\").click()\n",
    "\n",
    "# click date start\n",
    "start = driver.find_element_by_id(\"ctl00_contentPlaceHolder_txtSTransDate\")\n",
    "driver.execute_script(\"arguments[0].value = '106/09/01';\", start)\n",
    "\n",
    "time.sleep(1)\n",
    "\n",
    "# click date end\n",
    "end = driver.find_element_by_id(\"ctl00_contentPlaceHolder_txtETransDate\")\n",
    "driver.execute_script(\"arguments[0].value = '106/09/30';\", end)\n",
    "\n",
    "time.sleep(1)\n",
    "\n",
    "# choose market\n",
    "driver.find_element_by_id(\"ctl00_contentPlaceHolder_txtMarket\").click()\n",
    "driver.switch_to_frame(driver.find_element_by_xpath('//*[@id=\"divDialog\"]/iframe'))\n",
    "driver.find_element_by_xpath('//*[@id=\"lstMarket\"]/option[3]').click()\n",
    "driver.find_element_by_xpath('//*[@id=\"btnConfirm\"]').click()\n",
    "driver.switch_to_default_content()\n",
    "\n",
    "time.sleep(1)\n",
    "\n",
    "# choose product\n",
    "driver.find_element_by_id(\"ctl00_contentPlaceHolder_txtProduct\").click()\n",
    "driver.switch_to_frame(driver.find_element_by_xpath('//*[@id=\"divDialog\"]/iframe'))\n",
    "driver.find_element_by_id('radlProductType_0').click()\n",
    "driver.switch_to_default_content()\n",
    "\n",
    "time.sleep(1)\n",
    "\n",
    "# submit\n",
    "driver.find_element_by_id('ctl00_contentPlaceHolder_btnQuery').click()\n",
    "\n",
    "time.sleep(20)\n",
    "\n",
    "table = driver.find_element_by_xpath('//*[@id=\"ctl00_contentPlaceHolder_panel\"]/table[3]/tbody').get_attribute(\"innerHTML\")\n",
    "driver.close()"
   ]
  },
  {
   "cell_type": "code",
   "execution_count": 4,
   "metadata": {
    "scrolled": true
   },
   "outputs": [
    {
     "name": "stderr",
     "output_type": "stream",
     "text": [
      "IOPub data rate exceeded.\n",
      "The notebook server will temporarily stop sending output\n",
      "to the client in order to avoid crashing it.\n",
      "To change this limit, set the config variable\n",
      "`--NotebookApp.iopub_data_rate_limit`.\n"
     ]
    }
   ],
   "source": [
    "table"
   ]
  }
 ],
 "metadata": {
  "kernelspec": {
   "display_name": "Python 3",
   "language": "python",
   "name": "python3"
  },
  "language_info": {
   "codemirror_mode": {
    "name": "ipython",
    "version": 3
   },
   "file_extension": ".py",
   "mimetype": "text/x-python",
   "name": "python",
   "nbconvert_exporter": "python",
   "pygments_lexer": "ipython3",
   "version": "3.6.3"
  }
 },
 "nbformat": 4,
 "nbformat_minor": 2
}
