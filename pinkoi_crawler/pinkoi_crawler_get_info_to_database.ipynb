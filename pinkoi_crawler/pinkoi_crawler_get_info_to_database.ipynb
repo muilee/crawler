{
 "cells": [
  {
   "cell_type": "code",
   "execution_count": 9,
   "metadata": {
    "collapsed": true
   },
   "outputs": [],
   "source": [
    "import requests\n",
    "import json\n",
    "from bs4 import BeautifulSoup\n",
    "import re\n",
    "import concurrent.futures\n",
    "import os"
   ]
  },
  {
   "cell_type": "code",
   "execution_count": 2,
   "metadata": {
    "collapsed": true
   },
   "outputs": [],
   "source": [
    "DOMAIN = \"https://www.pinkoi.com\"\n",
    "comment_url = DOMAIN + \"/apiv2/review/get?limit=100&to_locale_mode=mix&to_locale=origin&tid={}\""
   ]
  },
  {
   "cell_type": "code",
   "execution_count": 18,
   "metadata": {
    "scrolled": false
   },
   "outputs": [
    {
     "data": {
      "text/plain": [
       "['pinkoi_crowler_test.ipynb',\n",
       " 'csv',\n",
       " 'amazon_crawler.ipynb',\n",
       " 'Great_circle_distance.ipynb',\n",
       " 'Agricultural_price_to_masql.ipynb',\n",
       " 'Agricultural_product_crawler.ipynb',\n",
       " 'coolpc_hdd_crawler_to_mysql.ipynb',\n",
       " 'appledaily_crawler.py',\n",
       " 'pinkoi_crowler_url.ipynb',\n",
       " 'Agricultural_test_to_sql.ipynb',\n",
       " 'weather_crawler.ipynb',\n",
       " 'PChome_crawler.ipynb',\n",
       " 'concurrent.features_test.ipynb',\n",
       " 'Agricultural_proxy.ipynb',\n",
       " 'books_chineseBook_urls.ipynb',\n",
       " 'youtube_crawler.py',\n",
       " 'weather_station_to_csv.ipynb',\n",
       " 'pinkoi_crawler_get_info_to_database.ipynb',\n",
       " 'books_crawler']"
      ]
     },
     "execution_count": 18,
     "metadata": {},
     "output_type": "execute_result"
    }
   ],
   "source": [
    "import os\n",
    "cwd = os.getcwd()\n",
    "filenames = list(filter(lambda x : not x.startswith(\".\"), os.listdir(cwd + \"/pinkoi/\")))\n",
    "filenames"
   ]
  },
  {
   "cell_type": "code",
   "execution_count": null,
   "metadata": {
    "collapsed": true
   },
   "outputs": [],
   "source": []
  },
  {
   "cell_type": "code",
   "execution_count": null,
   "metadata": {
    "collapsed": true
   },
   "outputs": [],
   "source": [
    "def get_info(URL):\n",
    "    product_id = URL.split(\"/\")[-1]\n",
    "    URL = DOMAIN + URL\n",
    "    product = {}\n",
    "    # ask for title, price, infomation etc... \n",
    "    resp = requests.get(URL)\n",
    "    \n",
    "    # ask for comment limit 100. if you want to change limitation, you can modify comment_url at second block\n",
    "    comment = requests.get(comment_url.format(product_id))"
   ]
  },
  {
   "cell_type": "code",
   "execution_count": null,
   "metadata": {
    "collapsed": true
   },
   "outputs": [],
   "source": [
    "def main():\n",
    "    for filename in filenames:\n",
    "        with open(\"./pinkoi/\" + filename, \"r\") as f:\n",
    "            urls = json.loads(f.read())\n",
    "            with concurrent.futures.ThreadPoolExecutor(max_workers=20) as executor:\n",
    "                executor.map(get_info, urls)"
   ]
  },
  {
   "cell_type": "code",
   "execution_count": null,
   "metadata": {
    "collapsed": true
   },
   "outputs": [],
   "source": [
    "if __name__==\"__main__\":\n",
    "    main()"
   ]
  },
  {
   "cell_type": "code",
   "execution_count": null,
   "metadata": {},
   "outputs": [],
   "source": []
  },
  {
   "cell_type": "code",
   "execution_count": null,
   "metadata": {
    "collapsed": true
   },
   "outputs": [],
   "source": []
  }
 ],
 "metadata": {
  "kernelspec": {
   "display_name": "Python 3",
   "language": "python",
   "name": "python3"
  },
  "language_info": {
   "codemirror_mode": {
    "name": "ipython",
    "version": 3
   },
   "file_extension": ".py",
   "mimetype": "text/x-python",
   "name": "python",
   "nbconvert_exporter": "python",
   "pygments_lexer": "ipython3",
   "version": "3.6.3"
  }
 },
 "nbformat": 4,
 "nbformat_minor": 2
}
