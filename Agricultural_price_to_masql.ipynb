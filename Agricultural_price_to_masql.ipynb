{
 "cells": [
  {
   "cell_type": "code",
   "execution_count": 8,
   "metadata": {
    "collapsed": true
   },
   "outputs": [],
   "source": [
    "import requests\n",
    "from bs4 import BeautifulSoup\n",
    "import random\n",
    "import pandas as pd\n",
    "\n",
    "# fill begining date, ending date in order\n",
    "data_form = \"\"\"ctl00$ScriptManager_Master:ctl00$ScriptManager_Master|ctl00$contentPlaceHolder$btnQuery\n",
    "__EVENTTARGET:\n",
    "__EVENTARGUMENT:\n",
    "__VIEWSTATE:/wEPDwUIOTY0Mzc1NDIPZBYCZg9kFgICAw9kFgICCw9kFg4CAQ8PFgIeBFRleHQFFeeUouWTgeaXpeS6pOaYk+ihjOaDhWRkAgcPDxYCHwAFCTEwNi8xMS8wNmRkAgkPD2QWAh4Fc3R5bGUFDWRpc3BsYXk6bm9uZTtkAgsPDxYCHwAFCTEwNi8xMS8wNhYCHwEFDWRpc3BsYXk6bm9uZTtkAg0PDxYCHwBlZGQCEw8PFgIfAGVkZAIhD2QWAmYPZBYCAgEPZBYEZg8PFgIfAAUV55Si5ZOB5pel5Lqk5piT6KGM5oOFZGQCBQ8UKwACZGRkGAEFIWN0bDAwJGNvbnRlbnRQbGFjZUhvbGRlciRsaXN0Vmlldw9nZJB6TVtqyP5qaVOhh5xKBHwm0An4WMIAGCB/gSBiJWw2\n",
    "__VIEWSTATEGENERATOR:924237A5\n",
    "__EVENTVALIDATION:/wEdABC4zGqUcskm7k+1KjEBYdnAQlnRBSjq2R0LFBhqvIaYOdWbMM2/DWJrZzd7rAbCDCMbHYsHDbD1wmtGXihvmsnJ8BlZTYOptctvPAnPr9y5LJoyUCbB5OTDc5yZRRQ2PEmkvfJ0YrSiHU+/oXyBv2VhrkJjLitQjF6ePtmGbXiLrIzHLqmP3vmfhBo4iiBYbOAMxUXSePoiAbW03Aek83lEONL/4qBgBPfx/RZlnlGK8F2urMXFZJUEVGioaQEN8wAcw2+N1zwrySGFt1o6Y654NdK0LUPG/u+ZYgXys7Q5MzRmtqZjr7cHdstuZRNzNiosHqM4wINIxgrfpUQJzv9g0Ae9xeks97eTdwrF7KIqvjvArZ7+z42YPUYIDsCdaL8=\n",
    "ctl00$contentPlaceHolder$ucDateScope$rblDateScope:P\n",
    "ctl00$contentPlaceHolder$ucSolarLunar$radlSolarLunar:S\n",
    "ctl00$contentPlaceHolder$txtSTransDate:\n",
    "ctl00$contentPlaceHolder$txtETransDate:\n",
    "ctl00$contentPlaceHolder$txtMarket:全部市場\n",
    "ctl00$contentPlaceHolder$hfldMarketNo:ALL\n",
    "ctl00$contentPlaceHolder$txtProduct:全部產品\n",
    "ctl00$contentPlaceHolder$hfldProductNo:ALL\n",
    "ctl00$contentPlaceHolder$hfldProductType:A\n",
    "__ASYNCPOST:true\n",
    "ctl00$contentPlaceHolder$btnQuery:查詢\"\"\"\n",
    "\n",
    "headers_string = \"\"\"Accept:*/*\n",
    "Accept-Encoding:gzip, deflate\n",
    "Accept-Language:zh-TW,zh;q=0.8,en-US;q=0.6,en;q=0.4\n",
    "Cache-Control:no-cache\n",
    "Connection:keep-alive\n",
    "Content-Length:1633\n",
    "Content-Type:application/x-www-form-urlencoded; charset=UTF-8\n",
    "Cookie:ASP.NET_SessionId=rrezkmxgbaf2f5ushmba1odl\n",
    "Host:amis.afa.gov.tw\n",
    "Origin:http://amis.afa.gov.tw\n",
    "Referer:http://amis.afa.gov.tw/veg/VegProdDayTransInfo.aspx\n",
    "User-Agent:Mozilla/5.0 (Windows NT 10.0; Win64; x64) AppleWebKit/537.36 (KHTML, like Gecko) Chrome/61.0.3163.100 Safari/537.36\n",
    "X-MicrosoftAjax:Delta=true\n",
    "X-Requested-With:XMLHttpRequest\"\"\"\n",
    "\n",
    "headers = {line.split(\":\")[0]: line.split(\":\")[1] for line in headers_string.split(\"\\n\")}\n",
    "data = {line.split(\":\")[0]: line.split(\":\")[1] for line in data_form.split()}"
   ]
  },
  {
   "cell_type": "code",
   "execution_count": 3,
   "metadata": {
    "collapsed": true
   },
   "outputs": [],
   "source": [
    "def getIP():\n",
    "    resp = requests.get(\"https://free-proxy-list.net/\")\n",
    "    soup = BeautifulSoup(resp.text, \"html5lib\")\n",
    "    ipList = [line.select(\"td\")[0].text + \":\" + line.select(\"td\")[1].text for line in soup.select(\"table.table > tbody > tr\")]\n",
    "    return ipList"
   ]
  },
  {
   "cell_type": "code",
   "execution_count": 9,
   "metadata": {
    "collapsed": true
   },
   "outputs": [],
   "source": [
    "def read(begin, end, proxy):\n",
    "    data[\"ctl00$contentPlaceHolder$txtSTransDate\"] = begin\n",
    "    data[\"ctl00$contentPlaceHolder$txtETransDate\"] = end\n",
    "    resp = requests.post(\"http://amis.afa.gov.tw/veg/VegProdDayTransInfo.aspx\", data = data, headers=headers, proxies=proxy)\n",
    "    return resp"
   ]
  },
  {
   "cell_type": "code",
   "execution_count": null,
   "metadata": {
    "collapsed": true
   },
   "outputs": [],
   "source": [
    "def load_in_sql(resp):\n",
    "    df = pd.read_html(resp.text)\n",
    "    table = df[2]\n",
    "    table.columns = table.iloc[0]\n",
    "    table.drop([\"跟前一交易日比較%\", \"跟前一交易日比較%\"], inplace=True, axis=1)\n",
    "    table = table[2:]\n",
    "    table = table.reset_index(drop=True)\n",
    "    table[[\"市場編號\", \"市場\"]] = table[\"市場\"].str.split(\" \", expand=True)\n",
    "    table[[\"產品編號\", \"產品\"]] = pd.DataFrame([[x.split()[0], \" \".join(x.split()[1:])] for x in table[\"產品\"].tolist()])\n",
    "    "
   ]
  },
  {
   "cell_type": "code",
   "execution_count": 5,
   "metadata": {},
   "outputs": [
    {
     "data": {
      "text/plain": [
       "'190.24.145.125:8080'"
      ]
     },
     "execution_count": 5,
     "metadata": {},
     "output_type": "execute_result"
    }
   ],
   "source": [
    "proxy = random.choice(getIP())\n",
    "proxy"
   ]
  },
  {
   "cell_type": "code",
   "execution_count": null,
   "metadata": {
    "collapsed": true
   },
   "outputs": [],
   "source": []
  },
  {
   "cell_type": "code",
   "execution_count": null,
   "metadata": {
    "collapsed": true
   },
   "outputs": [],
   "source": []
  }
 ],
 "metadata": {
  "kernelspec": {
   "display_name": "Python 3",
   "language": "python",
   "name": "python3"
  },
  "language_info": {
   "codemirror_mode": {
    "name": "ipython",
    "version": 3
   },
   "file_extension": ".py",
   "mimetype": "text/x-python",
   "name": "python",
   "nbconvert_exporter": "python",
   "pygments_lexer": "ipython3",
   "version": "3.6.1"
  }
 },
 "nbformat": 4,
 "nbformat_minor": 2
}
