{
 "cells": [
  {
   "cell_type": "code",
   "execution_count": 22,
   "metadata": {
    "collapsed": true
   },
   "outputs": [],
   "source": [
    "import requests\n",
    "from bs4 import BeautifulSoup\n",
    "import re\n",
    "from datetime import datetime, timedelta, date\n",
    "import concurrent.futures"
   ]
  },
  {
   "cell_type": "code",
   "execution_count": 21,
   "metadata": {
    "collapsed": true
   },
   "outputs": [],
   "source": [
    "DOMAIN = \"http://news.ltn.com.tw\"\n",
    "\n",
    "dates = []\n",
    "d_format = \"%Y%m%d\"\n",
    "date = datetime.strptime(\"20140101\", d_format)\n",
    "delta = timedelta(days=1)\n",
    "today = datetime.strptime(date.today().strftime(d_format), d_format)\n",
    "while date <= today:\n",
    "    dates.append(date.strftime(\"%Y%m%d\"))\n",
    "    date += delta"
   ]
  },
  {
   "cell_type": "code",
   "execution_count": null,
   "metadata": {
    "collapsed": true
   },
   "outputs": [],
   "source": [
    "def worker(date):\n",
    "    resp = requests.get(\"http://news.ltn.com.tw/list/newspaper/politics/{}\".format(date))\n",
    "    soup = BeautifulSoup(resp.text, \"html5lib\")\n",
    "    urls = [a.get(\"href\") for a in soup.select(\"ul.list > li > a.tit\")]\n",
    "    \n",
    "    for path in paths:\n",
    "        url = DOMAIN + path\n",
    "        c_resp = requests.get(url)\n",
    "        soup = BeautifulSoup(c_resp.text, \"html5lib\")\n",
    "        \n",
    "        news = {}\n",
    "        news[\"id\"]       = url.split(\"/\")[-1]\n",
    "        news[\"title\"]    = soup.select(\"div.articlebody > h1\")[0].text.replace(\"\\n\", \"\").replace(\"\\t\", \"\")\n",
    "        news[\"datetime\"] = soup.select(\"div.text > span\")[0].text\n",
    "        content = \"\".join([p.text.strip() for p in soup.select(\"div.text > p\")])\n",
    "        news[\"content\"]  = re.findall(\"〔.+〕(.+)\", content)[0]\n",
    "        news[\"hash\"]     = hash(c_resp.text)\n",
    "        news[\"media\"]    = \"自由時報\"\n",
    "        news[\"category\"] = \"politics\"\n",
    "        news[\"url\"] = url\n",
    "        \n",
    "        # store to mongoDB"
   ]
  },
  {
   "cell_type": "code",
   "execution_count": null,
   "metadata": {
    "collapsed": true
   },
   "outputs": [],
   "source": [
    "def main():\n",
    "    with concurrent.futures.ThreadPoolExecutor(max_workers=10) as executor:\n",
    "        executor.map(worker, dates)"
   ]
  },
  {
   "cell_type": "code",
   "execution_count": null,
   "metadata": {
    "collapsed": true
   },
   "outputs": [],
   "source": [
    "if __name__ == \"__main__\":\n",
    "    main()"
   ]
  },
  {
   "cell_type": "code",
   "execution_count": null,
   "metadata": {},
   "outputs": [],
   "source": [
    "\n"
   ]
  },
  {
   "cell_type": "code",
   "execution_count": null,
   "metadata": {
    "collapsed": true
   },
   "outputs": [],
   "source": []
  }
 ],
 "metadata": {
  "kernelspec": {
   "display_name": "Python 3",
   "language": "python",
   "name": "python3"
  },
  "language_info": {
   "codemirror_mode": {
    "name": "ipython",
    "version": 3
   },
   "file_extension": ".py",
   "mimetype": "text/x-python",
   "name": "python",
   "nbconvert_exporter": "python",
   "pygments_lexer": "ipython3",
   "version": "3.6.3"
  }
 },
 "nbformat": 4,
 "nbformat_minor": 2
}
