{
 "cells": [
  {
   "cell_type": "code",
   "execution_count": 1,
   "metadata": {
    "collapsed": true
   },
   "outputs": [],
   "source": [
    "import requests\n",
    "from bs4 import BeautifulSoup\n",
    "import re\n",
    "import concurrent.futures\n",
    "from datetime import datetime"
   ]
  },
  {
   "cell_type": "code",
   "execution_count": 11,
   "metadata": {
    "scrolled": false
   },
   "outputs": [
    {
     "data": {
      "text/plain": [
       "['/news/20171125/1059747.htm',\n",
       " '/news/20171125/1059992.htm',\n",
       " '/news/20171125/1059917.htm',\n",
       " '/news/20171125/1059938.htm',\n",
       " '/news/20171125/1059746.htm',\n",
       " '/news/20171125/1059830.htm',\n",
       " '/news/20171125/1059828.htm',\n",
       " '/news/20171125/1059824.htm',\n",
       " '/news/20171125/1059822.htm',\n",
       " '/news/20171125/1059745.htm',\n",
       " '/news/20171125/1059791.htm',\n",
       " '/news/20171125/1059786.htm',\n",
       " '/news/20171125/1059544.htm',\n",
       " '/news/20171125/1059513.htm',\n",
       " '/news/20171125/1059556.htm',\n",
       " '/news/20171125/1059543.htm',\n",
       " '/news/20171124/1059517.htm',\n",
       " '/news/20171124/1059151.htm',\n",
       " '/news/20171124/1059470.htm',\n",
       " '/news/20171124/1059408.htm']"
      ]
     },
     "execution_count": 11,
     "metadata": {},
     "output_type": "execute_result"
    }
   ],
   "source": [
    "resp = requests.get(\"https://www.ettoday.net/news/focus/%E6%94%BF%E6%B2%BB/\")\n",
    "soup = BeautifulSoup(resp.text, \"html5lib\")\n",
    "\n",
    "[a.get(\"href\") for a in soup.select(\"div.part_pictxt_3 > div.piece > a\")]"
   ]
  },
  {
   "cell_type": "code",
   "execution_count": 34,
   "metadata": {},
   "outputs": [
    {
     "data": {
      "text/plain": [
       "['/news/20171124/1059423.htm',\n",
       " '/news/20171124/1059301.htm',\n",
       " '/news/20171124/1059103.htm',\n",
       " '/news/20171124/1059426.htm',\n",
       " '/news/20171124/1059411.htm',\n",
       " '/news/20171124/1059300.htm',\n",
       " '/news/20171124/1059106.htm',\n",
       " '/news/20171124/1059195.htm',\n",
       " '/news/20171124/1059305.htm',\n",
       " '/news/20171124/1059225.htm',\n",
       " '/news/20171124/1059297.htm',\n",
       " '/news/20171124/1059105.htm',\n",
       " '/news/20171124/1059264.htm',\n",
       " '/news/20171124/1059165.htm',\n",
       " '/news/20171124/1059196.htm',\n",
       " '/news/20171124/1059107.htm',\n",
       " '/news/20171124/1059108.htm',\n",
       " '/news/20171124/1059145.htm',\n",
       " '/news/20171124/1059085.htm',\n",
       " '/news/20171124/1059062.htm',\n",
       " '/news/20171124/1059139.htm',\n",
       " '/news/20171124/1059039.htm',\n",
       " '/news/20171124/1059119.htm',\n",
       " '/news/20171124/1059027.htm',\n",
       " '/news/20171124/1059073.htm',\n",
       " '/news/20171124/1059016.htm',\n",
       " '/news/20171124/1058887.htm',\n",
       " '/news/20171124/1059030.htm',\n",
       " '/news/20171124/1059000.htm',\n",
       " '/news/20171124/1058885.htm',\n",
       " '/news/20171124/1058957.htm',\n",
       " '/news/20171124/1059008.htm',\n",
       " '/news/20171124/1058969.htm',\n",
       " '/news/20171124/1058988.htm',\n",
       " '/news/20171124/1058990.htm',\n",
       " '/news/20171124/1058963.htm',\n",
       " '/news/20171124/1058970.htm',\n",
       " '/news/20171124/1058958.htm',\n",
       " '/news/20171124/1058939.htm',\n",
       " '/news/20171124/1058914.htm',\n",
       " '/news/20171124/1058943.htm',\n",
       " '/news/20171124/1058691.htm',\n",
       " '/news/20171124/1058884.htm',\n",
       " '/news/20171124/1058894.htm',\n",
       " '/news/20171124/1058846.htm',\n",
       " '/news/20171124/1058181.htm',\n",
       " '/news/20171124/1058765.htm',\n",
       " '/news/20171124/1058754.htm',\n",
       " '/news/20171124/1058188.htm',\n",
       " '/news/20171124/1058718.htm',\n",
       " '/news/20171124/1058723.htm',\n",
       " '/news/20171123/1058688.htm',\n",
       " '/news/20171123/1058653.htm',\n",
       " '/news/20171123/1058552.htm',\n",
       " '/news/20171123/1058527.htm',\n",
       " '/news/20171123/1058586.htm',\n",
       " '/news/20171123/1058143.htm',\n",
       " '/news/20171123/1058436.htm',\n",
       " '/news/20171123/1058211.htm',\n",
       " '/news/20171123/1058344.htm',\n",
       " '/news/20171123/1058210.htm',\n",
       " '/news/20171123/1058310.htm',\n",
       " '/news/20171123/1058312.htm',\n",
       " '/news/20171123/1058222.htm',\n",
       " '/news/20171123/1058083.htm',\n",
       " '/news/20171123/1058201.htm',\n",
       " '/news/20171123/1058209.htm',\n",
       " '/news/20171123/1058185.htm',\n",
       " '/news/20171123/1058184.htm',\n",
       " '/news/20171123/1058001.htm',\n",
       " '/news/20171123/1058174.htm',\n",
       " '/news/20171123/1058171.htm',\n",
       " '/news/20171123/1058155.htm',\n",
       " '/news/20171123/1058147.htm',\n",
       " '/news/20171123/1058080.htm',\n",
       " '/news/20171123/1058113.htm']"
      ]
     },
     "execution_count": 34,
     "metadata": {},
     "output_type": "execute_result"
    }
   ],
   "source": [
    "urls = []\n",
    "for i in range(1, 100):\n",
    "    data = {\"offset\":str(i), \"tPage\":\"2\", \"tFile\":\"1.json\", \"tOt\":\"0\", \"tSi\":\"24\"}\n",
    "    resp2 = requests.post(\"https://www.ettoday.net/show_roll.php\", data=data)\n",
    "    soup2 = BeautifulSoup(resp2.text, \"html5lib\")\n",
    "    urls.extend([a.get(\"href\") for a in soup2.select(\"div.piece > a\")])\n",
    "urls"
   ]
  },
  {
   "cell_type": "code",
   "execution_count": 35,
   "metadata": {},
   "outputs": [
    {
     "data": {
      "text/plain": [
       "76"
      ]
     },
     "execution_count": 35,
     "metadata": {},
     "output_type": "execute_result"
    }
   ],
   "source": [
    "len(urls)"
   ]
  },
  {
   "cell_type": "code",
   "execution_count": null,
   "metadata": {
    "collapsed": true
   },
   "outputs": [],
   "source": []
  }
 ],
 "metadata": {
  "kernelspec": {
   "display_name": "Python 3",
   "language": "python",
   "name": "python3"
  },
  "language_info": {
   "codemirror_mode": {
    "name": "ipython",
    "version": 3
   },
   "file_extension": ".py",
   "mimetype": "text/x-python",
   "name": "python",
   "nbconvert_exporter": "python",
   "pygments_lexer": "ipython3",
   "version": "3.6.3"
  }
 },
 "nbformat": 4,
 "nbformat_minor": 2
}
