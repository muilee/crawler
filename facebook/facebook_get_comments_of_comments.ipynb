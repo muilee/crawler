{
 "cells": [
  {
   "cell_type": "code",
   "execution_count": 2,
   "metadata": {},
   "outputs": [],
   "source": [
    "import requests\n",
    "import json\n",
    "import facebook\n",
    "import re\n",
    "from datetime import datetime\n",
    "import concurrent.futures\n",
    "from pymongo import MongoClient"
   ]
  },
  {
   "cell_type": "code",
   "execution_count": null,
   "metadata": {
    "collapsed": true
   },
   "outputs": [],
   "source": [
    "token = input(\"your token\")\n",
    "client = MongoClient(\"mongodb//localhost:27017\")\n",
    "db = client[\"fb\"]"
   ]
  },
  {
   "cell_type": "code",
   "execution_count": null,
   "metadata": {
    "collapsed": true
   },
   "outputs": [],
   "source": [
    "def get_comments_of_comments(comment_id):\n",
    "    comments = []\n",
    "    obj_page = graph.request(post_id, {'fields':'comments'})[\"comments\"]\n",
    "    \n",
    "    while True:\n",
    "        for comment in obj_page[\"data\"]:\n",
    "            comment[\"created_time\"] = datetime.strptime(comment[\"created_time\"], \"%Y-%m-%dT%H:%M:%S+0000\")\n",
    "            comment[\"comment_id\"] = comment_id\n",
    "            comments.append(comment)\n",
    "            print(\"  finish {}\".format(comment[\"id\"]))\n",
    "\n",
    "\n",
    "        if \"next\" in obj_page[\"paging\"]:\n",
    "            next_page = obj_page[\"paging\"][\"next\"]\n",
    "            obj_page = requests.get(next_page).json()\n",
    "        else:\n",
    "            break\n",
    "        \n",
    "    return comments"
   ]
  },
  {
   "cell_type": "code",
   "execution_count": null,
   "metadata": {
    "collapsed": true
   },
   "outputs": [],
   "source": [
    "def main():\n",
    "    collection_kp_comments = db[\"kp_comments\"]\n",
    "    collection_kp_comments_of_comment = db[\"kp_comments_of_comment\"]\n",
    "    for comment_id in collection.find({}, {\"_id\":0, \"id\": 1})[\"id\"]:\n",
    "        comments = get_comments_of_comment(comment_id)\n",
    "        collection_kp_comments_of_comment.insert_many(comments)"
   ]
  },
  {
   "cell_type": "code",
   "execution_count": null,
   "metadata": {
    "collapsed": true
   },
   "outputs": [],
   "source": [
    "if __name__ == \"__main__\":\n",
    "    main()"
   ]
  }
 ],
 "metadata": {
  "kernelspec": {
   "display_name": "Python 3",
   "language": "python",
   "name": "python3"
  },
  "language_info": {
   "codemirror_mode": {
    "name": "ipython",
    "version": 3
   },
   "file_extension": ".py",
   "mimetype": "text/x-python",
   "name": "python",
   "nbconvert_exporter": "python",
   "pygments_lexer": "ipython3",
   "version": "3.6.3"
  }
 },
 "nbformat": 4,
 "nbformat_minor": 2
}
