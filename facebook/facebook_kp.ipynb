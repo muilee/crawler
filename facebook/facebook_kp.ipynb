{
 "cells": [
  {
   "cell_type": "code",
   "execution_count": 1,
   "metadata": {
    "collapsed": true
   },
   "outputs": [],
   "source": [
    "import requests\n",
    "import json\n",
    "import facebook\n",
    "import re\n",
    "from datetime import datetime\n",
    "import concurrent.futures\n",
    "from pymongo import MongoClient"
   ]
  },
  {
   "cell_type": "code",
   "execution_count": 46,
   "metadata": {
    "collapsed": true
   },
   "outputs": [],
   "source": [
    "# fan_page = \"DoctorKoWJ\"\n",
    "\n",
    "token = input(\"your token\")\n",
    "person  = \"DoctorKoWJ\"\n",
    "group_id = requests.get('https://graph.facebook.com/?id={}&access_token={}'.format(person, token)).json()[\"id\"]\n",
    "graph = facebook.GraphAPI(access_token = token)\n",
    "\n",
    "client = MongoClient(\"mongodb//localhost:27017\")\n",
    "db = client[\"politics\"]"
   ]
  },
  {
   "cell_type": "code",
   "execution_count": 35,
   "metadata": {
    "collapsed": true
   },
   "outputs": [],
   "source": [
    "def get_comments(post_id):\n",
    "    comments = []\n",
    "    obj_page = graph.request(post_id, {'fields':'comments{created_time,id,message,likes.limit(0).summary(True)}'})[\"comments\"]\n",
    "    \n",
    "    while True:\n",
    "        for comment in obj_page[\"data\"]:\n",
    "            comment[\"created_time\"] = datetime.strptime(comment[\"created_time\"], \"%Y-%m-%dT%H:%M:%S+0000\")\n",
    "            comment[\"likes\"] = comment[\"likes\"][\"summary\"][\"total_count\"]\n",
    "            comment[\"post_id\"] = post_id\n",
    "            comments.append(comment)\n",
    "            print(\"finish {}\".format(comment[\"id\"]))\n",
    "\n",
    "\n",
    "        if \"next\" in obj_page[\"paging\"]:\n",
    "            next_page = obj_page[\"paging\"][\"next\"]\n",
    "            obj_page = requests.get(next_page).json()\n",
    "        else:\n",
    "            break\n",
    "        \n",
    "    return comments"
   ]
  },
  {
   "cell_type": "code",
   "execution_count": null,
   "metadata": {
    "collapsed": true
   },
   "outputs": [],
   "source": [
    "def get_posts():\n",
    "    kp_posts = []\n",
    "    obj_page = graph.request(group_id,{'fields':'posts.since(2017-11-20){created_time, message,id,likes.limit(0).summary(True),shares,link}'})[\"posts\"]\n",
    "\n",
    "    while True:\n",
    "        for post in obj_page[\"data\"]:\n",
    "            post[\"created_time\"] = datetime.strptime(post[\"created_time\"], \"%Y-%m-%dT%H:%M:%S+0000\")\n",
    "            post[\"likes\"] = post[\"likes\"][\"summary\"][\"total_count\"]\n",
    "            post[\"shares\"] = post[\"shares\"][\"count\"]\n",
    "            kp_posts.append(post)\n",
    "            \n",
    "            print(\"finish {}\".format(post[\"id\"]))\n",
    "\n",
    "        if \"next\" in obj_page[\"paging\"]:\n",
    "            next_page = obj_page[\"paging\"][\"next\"]\n",
    "            obj_page = requests.get(next_page).json()\n",
    "        else:\n",
    "            break\n",
    "    \n",
    "    return kp_posts"
   ]
  },
  {
   "cell_type": "code",
   "execution_count": null,
   "metadata": {
    "collapsed": true
   },
   "outputs": [],
   "source": [
    "def main():\n",
    "    kp_posts = get_posts()\n",
    "    posts_collections = db[\"posts\"]\n",
    "    posts_collections.insert_many(kp_posts)\n",
    "    post_ids = [post[\"id\"] for post in kp_posts]\n",
    "    \n",
    "    kp_comments_collections = db[\"kp_comments\"]\n",
    "    for post_id in post_ids:\n",
    "        comments = get_comments(post_id)\n",
    "        kp_comments_collections.insert_many(comments)"
   ]
  },
  {
   "cell_type": "code",
   "execution_count": null,
   "metadata": {
    "collapsed": true
   },
   "outputs": [],
   "source": [
    "if __name__ == \"__main__\":\n",
    "    main()"
   ]
  },
  {
   "cell_type": "code",
   "execution_count": null,
   "metadata": {
    "collapsed": true
   },
   "outputs": [],
   "source": []
  },
  {
   "cell_type": "code",
   "execution_count": null,
   "metadata": {
    "collapsed": true
   },
   "outputs": [],
   "source": []
  },
  {
   "cell_type": "code",
   "execution_count": 49,
   "metadata": {
    "collapsed": true
   },
   "outputs": [],
   "source": [
    "# function (get_posts) test\n",
    "\n",
    "kp_posts = []\n",
    "obj_page = graph.request(group_id,{'fields':'posts.since(2017-11-01){created_time, message,id,likes.limit(0).summary(True),shares, reactions{type}}'})[\"posts\"]\n",
    "\n",
    "for _ in range(1):\n",
    "    for post in obj_page[\"data\"]:\n",
    "        post[\"created_time\"] = datetime.strptime(post[\"created_time\"], \"%Y-%m-%dT%H:%M:%S+0000\")\n",
    "        post[\"likes\"] = post[\"likes\"][\"summary\"][\"total_count\"]\n",
    "        post[\"shares\"] = post[\"shares\"][\"count\"]\n",
    "        kp_posts.append(post)\n",
    "        \n",
    "    \n",
    "    if \"next\" in obj_page[\"paging\"]:\n",
    "        next_page = obj_page[\"paging\"][\"next\"]\n",
    "        obj_page = requests.get(next_page).json()\n",
    "    else:\n",
    "        break\n",
    "        \n"
   ]
  },
  {
   "cell_type": "code",
   "execution_count": 50,
   "metadata": {},
   "outputs": [
    {
     "data": {
      "text/plain": [
       "[{'created_time': datetime.datetime(2017, 11, 24, 10, 37, 11),\n",
       "  'id': '136845026417486_1176168899151755',\n",
       "  'likes': 19919,\n",
       "  'message': '中和的一場大火帶走9條人命，令人遺憾的是，其中一位罹難者還是我們北市的警察同仁。\\n\\n這場大火，燒出了違建背後的安全問題，台北市也必須嚴肅面對。\\n\\n3年前，我們曾經針對頂樓有危害公共安全的違建祭出「226專案」，不到3個月時間就讓226處違建拆光。上個月，我們再度針對新增的頂樓加蓋違建公告「208頂樓專案」，要求208處違建屋主在今年11月15日前自行改善，否則就會被強制拆除，多數屋主都願意配合。\\n\\n只是即便如此，違建火災事件還是層出不窮，因此，我們對於既有的頂樓加蓋也要祭出新規定，只要是未加裝住警器（住宅用火災警報器）的違建，名單將由消防局移送建管處，納入「優先拆除對象」。\\n\\n排除新的違建較容易，但要改善數萬戶既有的「歷史共業」則是需要時間。對於打擊違建，我們態度不變，但最重要的還是要建立一個守法的氛圍，不要讓違建一再出現，才是根本解決之道。\\n\\n---\\n台北市頂樓加蓋處所安裝住警器 Q&A\\nhttps://goo.gl/7iYJDr',\n",
       "  'shares': 289},\n",
       " {'created_time': datetime.datetime(2017, 11, 21, 12, 42, 23),\n",
       "  'id': '136845026417486_1173911382710840',\n",
       "  'likes': 10545,\n",
       "  'message': '以前，政府興建公共住宅，只是當作一個「可以住的地方」，外觀像火柴盒一樣缺乏美感，對社區也缺乏連結與回饋，導致很多居民對公宅有很大的成見，甚至反對。\\n\\n為了扭轉社會對於公宅的刻板印象，我要求每一座公宅不只外觀要有設計感，還要導入智慧電網、智慧電錶、智慧水錶、智慧瓦斯錶等科技設備，低樓層更要配置完善的托嬰、托幼、托老、民眾活動中心等公共設施，創造更多高質感、高科技、高機能的新時代公宅。\\n\\n最重要，我們要讓公宅成為社區居民的「好厝邊」，所以我們不只請專人協助美化社區或水溝清淤，更計畫讓入住的青年，可以為社區提出一些想法，使公宅不再只是住的地方，還可以成為一個全新社會形態的的實驗場域，創造更多有創意的互動模式。\\n\\n提出概念並入選的青年，不只不用抽籤即可入住公宅，市府還會挹注相關資源，幫忙實現這些人理想中的社區新型態。\\n\\n從年底即將完工的健康公宅開始，未來我們蓋的所有公宅，都將導入這樣的「青年創新回饋計畫」，讓青年的活力，成為城市活力的主力。\\n\\n健康公宅青年創新回饋計畫\\n#公共住宅\\n#進步價值光榮城市\\n\\n---\\n提出你的點子，有機會免抽籤入住健康公宅！\\n\\n‣ 徵件主題\\n社會福利推動、活絡社區空間或凝聚居民情感、社區營造⋯等。\\n‣ 徵件期間\\n11/17(五)至12/6(三)17:00前截止。\\n‣ 徵件說明會\\n11/22(三)19:00-21:00，臺北市松山區自強里區民活動中心。\\n\\n看更多「健康公宅青年創新回饋計畫」\\nhttps://goo.gl/Y3ZbL5',\n",
       "  'shares': 328},\n",
       " {'created_time': datetime.datetime(2017, 11, 19, 10, 45, 55),\n",
       "  'id': '136845026417486_1172215066213805',\n",
       "  'likes': 42215,\n",
       "  'message': '昨天，重陽敬老金再度成為大家關心的焦點。\\n\\n事實上，我們並沒有取消中低收入戶的重陽敬老金，社會福利應該優先給弱勢的人，不應「齊頭式平等」，不分貧富一律發給，也不應沒有政策引導效果，只發現金，再來一概不管。\\n\\n今年全台灣的重陽敬老金多達45億元，5年後，台灣超過65歲以上的人口將佔20%，這筆錢會膨脹至60億元。如何建立完整的老人照護系統才是當務之急，而不是這樣花錢。\\n\\n就像我們規劃明年上線的私幼補貼政策，政策目的是為了拉近公幼與私幼的費用差距，但也設有排富條款、戶籍限制、私幼接受補貼的基本條件與政策退場機制，並非政府給所有幼童一筆相同的金錢，然後其餘不管了。\\n\\n在政府財政日益困窘的年代，每一分錢應合理使用，所有補助應當要排富、要有政策引導作用，才能創造最大效益。\\n\\n---\\n看更多台北市老人福利政策\\n\\n活用重陽敬老金預算 ‣ https://goo.gl/YDNtMM\\n敬老卡升級，擴大使用範圍 ‣ https://goo.gl/zAJ499\\n325處老人共餐據點 ‣ https://goo.gl/u4xwtp\\n石頭湯計畫，整合長照資源 ‣ https://goo.gl/5GDPL2\\n台北扶老計畫，修屋補8萬 ‣ https://goo.gl/LEaUW3\\n失能者居家醫療 ‣ https://goo.gl/mHbRen\\n補助施打肺炎鏈球菌疫苗 ‣ https://goo.gl/jGYwiw',\n",
       "  'shares': 2215},\n",
       " {'created_time': datetime.datetime(2017, 11, 17, 7, 40),\n",
       "  'id': '136845026417486_1170455203056458',\n",
       "  'likes': 37120,\n",
       "  'message': '聽說昨天這支廣告片不小心又嚇到大家。\\n\\n其實電競跟當醫師一樣，需要不斷磨練、不斷學習，全神貫注、尊重專業。只要熱愛自己的專業，不管從事什麼行業，大家都可以很帥。\\n\\n現在，電競已經正式被官方納入運動產業，跟世大運一樣，很多台灣電競好手在世界級的比賽拿下好成績，提升台灣電競玩家與愛好者的自信心，所以電競相關活動，我們更應該大力支持，讓世界看見台灣。\\n\\n去年舉辦的WirForce吸引超過7萬人到現場參加，並有超過100萬人上線觀看直播，讓全世界都看見我們對電競的狂熱。今年，我們再度與4 Gamers共同合辦這場亞洲最大的電競嘉年華，BYOC (Bring Your Own Computer) 玩家們都會帶著自己的電腦裝備，來花博爭艷館切磋交流。\\n\\n不要只在聊天室滑起來，一起到現場玩最好玩。\\n\\n---\\nWirForce2017\\n日期：11/23(四)－11/26(日)\\n時間：11:00－23:00（11/26當天17:30閉幕）\\n地點：花博公園爭艷館\\n更多活動資訊：https://www.wirforce.com.tw/',\n",
       "  'shares': 1380},\n",
       " {'created_time': datetime.datetime(2017, 11, 16, 13, 22, 45),\n",
       "  'id': '136845026417486_1169766833125295',\n",
       "  'likes': 25949,\n",
       "  'message': '2014年的台北市長選舉，當時對手緊咬我們在MG149的誠信問題，我們決定把一切證據公開讓社會大眾檢視，「寧可斷一手一腳，也要爭取道德正當性 」。\\n\\n如今，在大巨蛋的議題上，當市府以不按圖施工為依據勒令遠雄停工，並要求遠雄必須遵守程序，經過市府都審、環評之審查，以合法的方式完成建照變更；但這樣的堅持，卻被外界繪聲繪影形容為「喬家大院」。\\n\\n我們無法接受。\\n\\n在BOT契約上，政府機關與投資廠商理應為公私協力精神下的合作夥伴，但過去議約時常常發生「掛羊頭賣狗肉」的問題，讓BOT在台灣已經污名化，這樣的情況下，變成只要與廠商接觸、會面，就是黑箱、就是勾結。\\n\\n因此，今天我們將三年來與遠雄公司議約、談判等過程的會議記錄對外公布，記者會上的相關文件與內容，也會一併上網對外公開，未來的都審、環評程序，更會全程錄音、錄影，徹底公開透明。\\n\\n坦白說，在危機處理上，我們的回應過於被動，讓許多不實爆料與傳言在媒體上不斷流傳，現在，我們要主動出擊，一個安全合法的大巨蛋，是我們不會改變的堅持。',\n",
       "  'shares': 489},\n",
       " {'created_time': datetime.datetime(2017, 11, 15, 4, 11, 20),\n",
       "  'id': '136845026417486_1168701596565152',\n",
       "  'likes': 21035,\n",
       "  'message': '大同明倫公宅、北投奇岩公宅、萬華青年公宅、內湖瑞光公宅、南港東明公宅、南港中南公宅、文山木柵公宅，這些在我任內開工、正在興建中的公共住宅，是我們為實現居住正義所做的努力。\\n\\n但興建公宅之餘，我們發現，台北市超過一年沒人居住的空屋就有3.5萬戶，如果能讓上萬戶的空屋釋出到租屋市場，再視缺額興建公宅，效益會比較高。\\n\\n因此，在中央的支持下，閒置空屋由政府「包租代管」的計畫在明年1月1日起正式上路，民眾可以用市價8折的租金入住，經濟弱勢戶最高還有每月7,200元的租金補助。\\n\\n為了鼓勵房東釋出空屋，參加包租代管計畫的房東也可享有稅率優惠，房屋稅從1.5%降至1.2%，地價稅則從1%降至0.2%，還有修繕補助，且房東在同意包租代管的第一天，就可以開始收租。\\n\\n檢討過去的「代租代管」政策失敗經驗，我們發現除了稅賦外，很多房東也擔心租屋糾紛，因此，這次全新的包租代管計畫，我們用制度化的管理與規範，房東不用直接面對房客，風險會由平台業者承擔。\\n\\n我們很難讓每個人都買得起房子，但至少要讓大家租得起。公共住宅之外，我們希望用「包租代管」計畫，讓這些空屋發揮意義，成為更多人能夠落腳的「家」。\\n\\n#包租代管\\n\\n---\\n看更多包租代管計畫內容\\nhttp://www.udd.gov.taipei/rentmatch/',\n",
       "  'shares': 1181},\n",
       " {'created_time': datetime.datetime(2017, 11, 13, 8, 30, 1),\n",
       "  'id': '136845026417486_1167260756709236',\n",
       "  'likes': 12102,\n",
       "  'message': '昨天晚上的感恩大會，是世大運志工夥伴們的最後一個行程。\\n\\n在此之後，身上那件青綠色的志工制服就要退役了，但我相信，這個不分藍綠、不分地域，一起團結創造的台灣奇蹟，都會成為大家的美好回憶。\\n\\n光榮城市，感謝有你。',\n",
       "  'shares': 91},\n",
       " {'created_time': datetime.datetime(2017, 11, 12, 12, 34, 25),\n",
       "  'id': '136845026417486_1166647280103917',\n",
       "  'likes': 9275,\n",
       "  'message': '【全能老店改造王】\\n\\n台北有很多特色老店，它們和這座城市一起生活了幾十年，這些老店不只有台北人熟悉的味道，也有台北人的共同記憶。\\n\\n只是隨著時代改變，這些老店也需要新的面貌，來面對各種新潮店家的挑戰。因此，從2015年開始，台北市商業處就推出「美食店家再造計畫」，不但重新塑造店家品牌，也透過改造工程，給店家一個更舒適、更現代、更有美感的用餐空間。\\n\\n美學是改變台北的一大關鍵，除了有設計感的公宅，現代化的傳統市場，這些傳統老店也需要用新的方式來延續生命。\\n\\n改造後，人潮更多了，國際觀光客也更願意進來了，就讓我們用這部影片，見證這些店家重生的故事。\\n\\n#台北美食店家再造計畫\\n#進步價值光榮城市\\n台北市商業處-猴呷猴七淘 in Taipei',\n",
       "  'shares': 414},\n",
       " {'created_time': datetime.datetime(2017, 11, 10, 4, 18, 43),\n",
       "  'id': '136845026417486_1164822753619703',\n",
       "  'likes': 11973,\n",
       "  'message': '我的施政理念是「把所有的小問題解決了，就沒有大問題」，就像台北市的高房價不是一天造成的，但當問題還小時，政府沒有積極面對，拖到現在，就變成大難題。\\n\\n要達到居住正義，只租不賣的公共住宅是我們的重要政策，但公宅不是唯一的方法，「健全房市」也是需要的。\\n\\n我們發現，交易資訊不透明，以及不合理的價稅，讓人有機會炒作不動產，是高房價的元兇之一。因此，透過地政維新達成健全房市，是我們的重要工作。\\n\\n在台北市地政局同仁的努力下，過去預售屋定型化契約的合格率是0%，今年已經提升到75%。\\n\\n此外，公開透明也是健全房市的有效手段，所以這幾年，地政局同仁致力於「台北地政雲」網站的建構，在網路上揭露各種土地、不動產資訊與圖資，讓交易更公平合理。\\n\\n地政不是我的專業，但我知道在資通訊的時代，地政服務不走向智慧化不行，唯有透過科技，才能達成公開透明、公平正義的願景。\\n\\n#地政維新\\n#健全房市\\n#進步價值光榮城市\\n臺北地政\\n\\n---\\n「台北地政雲」一手掌握各種不動產資訊\\nhttps://cloud.land.gov.taipei/\\n\\n來「台北地政E博館」看台北的前世今生\\nhttps://emuseum.land.gov.taipei/',\n",
       "  'shares': 301},\n",
       " {'created_time': datetime.datetime(2017, 11, 8, 15, 10, 21),\n",
       "  'id': '136845026417486_1163633190405326',\n",
       "  'likes': 17871,\n",
       "  'message': '我常開玩笑說，外科醫師是特殊材料做的，可以不吃不喝長時工作，當市長之後更慘，等於完全沒有休假，但這些都不是好的現象。\\n\\n在勞動政策上，我一向尊重賴香伶局長的專業，她基於勞動局在執行法令上所遇到的窒礙難行之處，去函中央給予專業見解，這點也跟我「有意見就舉手」的態度符合。雖然有幕僚擔心外界以為「又要炮打中央」，但是我還是支持賴局長發表意見。\\n\\n我常說，在一個「對」的社會中，法律是給人民遵守的，而不是參考用。今天一例一休的問題所在，是修法通過後，先三個月「宣導期」，再三個月「輔導期」，然後「再輔導期」，到底是要執行還是不要執行，大家都摸不著頭緒。\\n\\n所以，只要能讓勞動基準法可以徹底執行的修法內容，我都支持，而且台北市政府也會依法辦理，不要再卡住、無所適從。\\n\\n勞動臺北',\n",
       "  'shares': 235},\n",
       " {'created_time': datetime.datetime(2017, 11, 7, 13, 54, 37),\n",
       "  'id': '136845026417486_1162798607155451',\n",
       "  'likes': 40864,\n",
       "  'message': '#宵夜文\\n#肚子餓者慎入\\n\\n我是一個對吃沒有什麼講究的人，連吃飯也有SOP，平均6分30秒就可以幹掉一個便當。對我而言，有東西可以吃就行了，反正就是維持身體所需。\\n\\n但我發現在世大運期間，很多外國選手對台北的第一印象就是「吃不完的美食」。畢竟，作為一個多元開放的國際城市，必須滿足不同國籍、種族、年齡的口味，無形之中，也讓台北成為一個世界級的美食天堂。\\n\\n要讓世界走進台灣，就必須用更多美味來招呼大家，現在讓我們用這部影片，看看外國人怎麼享受台北的美食。\\n\\n台北旅遊網',\n",
       "  'shares': 3528},\n",
       " {'created_time': datetime.datetime(2017, 11, 6, 9, 0, 12),\n",
       "  'id': '136845026417486_1161945813907397',\n",
       "  'likes': 13901,\n",
       "  'message': '「失敗是常態、成功是例外」，從生物演化的角度來看，大多數的突變是不利的，甚至會致命。\\n\\n因此，優勢者往往沒有創新的動機，因為怕改變後反而變差。但對弱勢者而言，因為沒什麼好失去的，所以「創新是弱勢者的義務」，改變不一定會成功，但不改變、不創新，原本位居弱勢者根本沒有成功的機會。\\n\\n台灣雖然沒有豐富的天然資源，但擁有「民主、自由、多元、開放」等進步價值，與亞洲各國相比，非常適合創業，但創業並不保證一定會成功，所以追求創新的第一要素，就是「不怕失敗」。\\n\\n可惜，我們的社會普遍鼓勵成功，卻沒有提供一個允許失敗的環境。因為沒有足夠勇氣承擔失敗，造成大家不敢創新，結果就是台灣產業越來越保守，最後只剩下代工。\\n\\n既然要年輕人不怕失敗、敢於創新，政府就應該要提供一個良好的創業環境。3年來，我們成立的「StartUP@Taipei」創業服務辦公室，提供了完善的服務，從技術研發、創新育成到創業補助，所有創業所需的支援都包括在內。上任至今，補助總金額高達7.4億元，總件數達573件。\\n\\n另外，在「台北國際創業週」，我們也找來以色列、荷蘭、日本、新加坡等國家的創投育成機構共同參與，透過國際論壇，讓大家充分了解這些國家如何扶植新創產業，也讓台灣的新創產業有機會與世界互動，產生更大能量。\\n\\n創新是我們唯一的出路，我們要重建台灣海洋國家的性格，讓年輕人有足夠勇氣，航向未知的未來。\\n\\n#追求創新\\n#協助創業\\n#進步價值光榮城市\\n\\n---\\n2017台北國際創業週\\n\\n11/14-11/15 \\n內容：國際論壇、星光媒合會、全球共同工作空間大會\\n地點：台北文創大樓6樓\\n\\n11/16-11/18\\n內容：台北新創館－超過40組國內外優秀新創團隊共同參展\\n地點：花博公園爭艷館\\n\\n官網：https://goo.gl/M2x9YG',\n",
       "  'shares': 517},\n",
       " {'created_time': datetime.datetime(2017, 11, 4, 4, 40, 34),\n",
       "  'id': '136845026417486_1160346620733983',\n",
       "  'likes': 28101,\n",
       "  'message': '少子化已成為國安問題，上個月，我們推出「第二胎每月加碼三千元」的托嬰補助，希望能減輕家長負擔而鼓勵生育。\\n\\n但是，除了補助生育，還有養育、教育的問題要處理。最近很多民眾反應「抽不到公幼」，也逼我們不斷思考解決之道。\\n\\n因此，我們決定把閒置的國小校舍，拿來作為0至2歲的托嬰、2歲學齡前專班、3至5歲的幼兒園，孩子以後還可以直升國小一年級，形成0至12歲「托育一條龍」，預計不到6年時間，我們就會讓北市139所公立國小「校校有幼托」。\\n\\n在普遍設立公幼、非營利幼兒園之前的空窗期，我們也正計劃透過補助的方式，拉近公幼、私幼之間的費用差距。\\n\\n低所得、高物價的時代，要讓人民敢生敢養，政府不能只辦徵文比賽，而是要設法幫忙減輕養育的負擔，這筆錢不能省，我們一定會讓年輕父母，都能在台北安心成家。\\n\\n#幼教托育愛持續\\n#進步價值光榮城市\\n\\n---\\n第二胎托育補助加碼三千！\\nhttps://goo.gl/hZT8iV\\n\\n看更多托嬰、托幼政策\\nhttp://born.taipei/',\n",
       "  'shares': 1705},\n",
       " {'created_time': datetime.datetime(2017, 11, 2, 13, 19, 2),\n",
       "  'id': '136845026417486_1159016720866973',\n",
       "  'likes': 9289,\n",
       "  'message': '在台灣，多數人跟政府有關係的時刻，就是選舉投票那一刹那。投完票後，只能當「假日政治家」、「遙控器政治家」或「鍵盤政治家」：假日上街頭搖旗吶喊理念、邊看政論節目邊罵，或是匿名上網發表看法。\\n\\n為了解決這種民主困境，我一直設法在現有的體制下，納入更多公民的意見。從成立全台灣第一個「公民參與委員會」、推動參與式預算、以及改版重新上路的 i-Voting 機制，就是希望能夠實現「開放政府、全民參與、公開透明」這個理念。\\n\\n現在，我們即將徵選第2屆公民參與委員會委員，只要年滿18歲，對於公共事務議題有興趣，都可以報名參與，我們會用遴選的方式選出8至12名府外委員，一起加入改變台北的行列。\\n\\nPTT壞了沒關係，快按下方的連結報名參與，讓你的意見更有力量，不再只是鍵盤政治家！\\n\\n#公民參與委員會\\n#進步價值光榮城市\\n\\n---\\n第二屆「臺北市政府公民參與委員會」報名表\\n（報名至11月5日上午10時截止）\\nhttps://goo.gl/qQkwdW',\n",
       "  'shares': 169},\n",
       " {'created_time': datetime.datetime(2017, 11, 2, 3, 30),\n",
       "  'id': '136845026417486_1156595417775770',\n",
       "  'likes': 9314,\n",
       "  'message': '文山區，顧名思義「有文也有山」，是台北市內學校密度最高、山林綠地最多的行政區。但這裡過去也是台北的易淹水地區，只要下大雨就淹水。\\n\\n三年下來，我們完成了文山區整體防洪計畫，用「分流加滯洪」的概念，讓每逢豪大雨必淹的文山區興隆路、福興路一帶從易淹水地區除名，今年幾次大雨，我們都通過了考驗。\\n\\n解決了淹水，我們還要帶動這裡的產業。\\n\\n過去在動物園旁蓋「Zoo Mall」的失敗經驗，讓我們學到只是蓋一個商場，沒辦法存活太久，所以必須結合貓熊、貓纜與貓空，完整的「三貓計畫」串連動物園、貓空的茶與綠竹筍產業，到景美溪對岸的木柵路四、五段開發，要讓觀光客在這裡待上超過一晚，才能創造足夠的商機。\\n\\n文山的改變已經發生，未來我們會更加努力，讓這個地區更宜居、更美麗。\\n\\n#行動市政會議\\n#進步價值光榮城市\\n\\n---\\n走讀臺北，看見更多改變\\n\\n改變中正 ▸ https://goo.gl/KZjFnh\\n改變信義 ▸ https://goo.gl/hr3wQP',\n",
       "  'shares': 220},\n",
       " {'created_time': datetime.datetime(2017, 11, 1, 4, 26, 32),\n",
       "  'id': '136845026417486_1158015770967068',\n",
       "  'likes': 10743,\n",
       "  'message': '大巨蛋談判還是要重啟，但我們強調，我們是反對複雜的政商關係，不是反商仇富，還是要公開透明。對任何人，不管你喜歡不喜歡，我們都給他一個公平的處理方式。\\n\\u3000\\n公平正義不只是對一般人，對你不喜歡的人，我們也是公平正義，只有這樣，才能真正建立一個法治的國家。\\n\\n---\\n大巨蛋案說明記者會（Part 1）連結\\nhttps://goo.gl/RPbDXP',\n",
       "  'shares': 184},\n",
       " {'created_time': datetime.datetime(2017, 11, 1, 4, 0, 6),\n",
       "  'id': '136845026417486_1157982787637033',\n",
       "  'likes': 8556,\n",
       "  'message': '各位市民朋友及媒體朋友大家好，在檢察官起訴趙藤雄後，關於大巨蛋案，台北市政府有以下幾點立場跟大家說明：\\n\\u3000\\n第一，從我上任以來，在大巨蛋案上，一直堅持公平正義、公開透明的原則，我們也承擔前任市政府留下的困難，沒有逃避，不管外界如何批評，甚至影響到民調的時候，我們都沒有妥協，一直堅持到現在。\\n\\u3000\\n第二、市政府強調的，最重要，大巨蛋必須是一個安全的大巨蛋，因此市政府在104年5月20日，因為遠雄公司未按圖施工，依法勒令停工。到現在，遠雄只能用工地安全的問題，進行報備施工。至於停工，經過訴願委員會、監察院、行政法院的判決，市府的勒令停工是合法的。在大巨蛋的安全上，市府是堅持的。\\n\\u3000\\n第三、台北市政府仍然會站在公平正義的立場，替市民爭回應有的權利，不會讓市民的權益受損。\\n\\u3000\\n最後，我仍然會堅持一個合法安全的大巨蛋，也非常感謝司法單位，證明了台北市政府在大巨蛋案上的堅持是對的，謝謝。\\n\\n---\\n大巨蛋案說明記者會（Part 2）連結\\nhttps://goo.gl/ji2vLF',\n",
       "  'shares': 241}]"
      ]
     },
     "execution_count": 50,
     "metadata": {},
     "output_type": "execute_result"
    }
   ],
   "source": [
    "kp_posts"
   ]
  },
  {
   "cell_type": "code",
   "execution_count": null,
   "metadata": {
    "collapsed": true
   },
   "outputs": [],
   "source": []
  },
  {
   "cell_type": "code",
   "execution_count": null,
   "metadata": {
    "collapsed": true
   },
   "outputs": [],
   "source": [
    "# test\n",
    "posts = graph.get_connections(id = 'me', connection_name='friends')\n",
    "graph.get_connections(id = 'me', connection_name='friends', limit=100, fields=['message', 'id', 'from', 'type', 'picture', 'link', 'created_time', 'updated_time'])"
   ]
  }
 ],
 "metadata": {
  "kernelspec": {
   "display_name": "Python 3",
   "language": "python",
   "name": "python3"
  },
  "language_info": {
   "codemirror_mode": {
    "name": "ipython",
    "version": 3
   },
   "file_extension": ".py",
   "mimetype": "text/x-python",
   "name": "python",
   "nbconvert_exporter": "python",
   "pygments_lexer": "ipython3",
   "version": "3.6.3"
  }
 },
 "nbformat": 4,
 "nbformat_minor": 2
}
